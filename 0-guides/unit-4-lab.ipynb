{
 "cells": [
  {
   "cell_type": "markdown",
   "metadata": {},
   "source": [
    "Ingeniería de Software Basada en la Nube\n",
    "\n",
    "#  Unidad 4 - Laboratorio\n",
    "__________________\n",
    "\n",
    "## Objetivo\n",
    "\n",
    "- Construir un primer prototipo de un sistema de software con **arquitectura de microservicios** y orientado a la **nube**.\n",
    "\n",
    "## Actividades\n",
    "\n",
    "### Componente #1\n",
    "\n",
    "* **Tipo de componente:** Base de Datos\n",
    "* **Nombre:** isbn-users-db\n",
    "* **Paradigma:** Relacional\n",
    "* **Sistema de Gestión de Base de Datos:** MySQL\n",
    "\n",
    "#### Parte 1\n",
    "\n",
    "Construcción y despliegue local:\n",
    "\n",
    "**1.** En la consola de GCP acceder a **SQL** > **Create Instance**.\n",
    "\n",
    "**2.** Seleccionar **MySQL**.\n",
    "\n",
    "**3.** Crear una instancia con la siguiente información:\n",
    "\n",
    "* **Instance-ID:** isbn-users-db\n",
    "* **Password:** 123\n",
    "* **Database version:** 8.0\n",
    "* **Cloud SQL edition:** Enterprise\n",
    "* **Preset:** Sandobox\n",
    "* **Region:** us-east4\n",
    "* **Zonal availability:** Single zone\n",
    "\n",
    "![img1](https://isbn2024i.s3.us-west-2.amazonaws.com/lab3/img/img01.png)\n",
    "\n",
    "**4.** Acceder a la opción **Databases** y hacer clic en **Create Database**:\n",
    "\n",
    "* **Database name:** isbn-users-db\n",
    "* **Character set:** utf8\n",
    "* **Collation:** Default collation\n",
    "\n",
    "![img02](https://isbn2024i.s3.us-west-2.amazonaws.com/lab3/img/img02.png)\n",
    "\n",
    "**5.** Acceder a la opción **Users** y hacer clic en **Add User Account**:\n",
    "\n",
    "* **User name:** isbn\n",
    "* **Password:** 123\n",
    "* **Host name:** Allow any host\n",
    "\n",
    "![img03](https://isbn2024i.s3.us-west-2.amazonaws.com/lab3/img/img03.png)\n",
    "\n",
    "**6.** Acceder a la opción **Cloud SQL Studio** y conectarse a la base de datos **isbn-users-db**:\n",
    "\n",
    "* **Database:** isbn-users-db\n",
    "* **User:** isbn\n",
    "* **Password:** 123\n",
    "\n",
    "![img04](https://isbn2024i.s3.us-west-2.amazonaws.com/lab3/img/img04.png)\n",
    "\n",
    "**7.**. Crear tabla **User**:"
   ]
  },
  {
   "cell_type": "code",
   "execution_count": null,
   "metadata": {
    "vscode": {
     "languageId": "sql"
    }
   },
   "outputs": [],
   "source": [
    "CREATE TABLE user (\n",
    "    id INT AUTO_INCREMENT PRIMARY KEY,\n",
    "    name VARCHAR(100) NOT NULL,\n",
    "    email VARCHAR(100) NOT NULL\n",
    ");"
   ]
  },
  {
   "cell_type": "markdown",
   "metadata": {},
   "source": [
    "![img05](https://isbn2024i.s3.us-west-2.amazonaws.com/lab3/img/img05.png)\n",
    "\n",
    "**8.** Acceder a la opción **Overview** y hacer clic  en la opción **Edit**.\n",
    "\n",
    "**9.** Ir a la opción **Connections** > **Authorized networks** > **Add a network**:\n",
    "\n",
    "* **Name:** Internet\n",
    "* **Network:**: 0.0.0.0/0\n",
    "\n",
    "**10.** Hacer clic en **Save**."
   ]
  },
  {
   "cell_type": "markdown",
   "metadata": {},
   "source": [
    "### Componente #2\n",
    "\n",
    "* **Tipo de componente:** Lógico (Microservicio)\n",
    "* **Nombre:** isbn-users-ms\n",
    "* **Lenguaje de Programación:** Python\n",
    "* **Framework:** Flask\n",
    "\n",
    "**1.** Crear un directorio llamado **isbn-users-ms**.\n",
    "\n",
    "**2.** Dentro del directorio, crear los siguientes directorios:\n",
    "\n",
    "    - models/\n",
    "    - repositories/\n",
    "    - services/\n",
    "    - controllers/\n",
    "\n",
    "**3.** En el directorio **models**, crear archivo **user.py**:"
   ]
  },
  {
   "cell_type": "code",
   "execution_count": null,
   "metadata": {},
   "outputs": [],
   "source": [
    "from flask_sqlalchemy import SQLAlchemy\n",
    "\n",
    "db = SQLAlchemy()\n",
    "\n",
    "class User(db.Model):\n",
    "    \n",
    "    id = db.Column(db.Integer, primary_key=True)\n",
    "    name = db.Column(db.String(100), nullable=False)\n",
    "    email = db.Column(db.String(100), nullable=False)"
   ]
  },
  {
   "cell_type": "markdown",
   "metadata": {},
   "source": [
    "**4.** En el directorio **repositories**, crear archivo **user_repository.py**:"
   ]
  },
  {
   "cell_type": "code",
   "execution_count": null,
   "metadata": {},
   "outputs": [],
   "source": [
    "from models.user import User, db\n",
    "\n",
    "class UserRepository:\n",
    "\n",
    "    @staticmethod\n",
    "    def create_user_repository(name, email):\n",
    "\n",
    "        user = User(name=name, email=email)\n",
    "        \n",
    "        db.session.add(user)\n",
    "        db.session.commit()\n",
    "\n",
    "        return user"
   ]
  },
  {
   "cell_type": "markdown",
   "metadata": {},
   "source": [
    "**5.** En el directorio **services**, crear archivo **user_service.py**:"
   ]
  },
  {
   "cell_type": "code",
   "execution_count": null,
   "metadata": {},
   "outputs": [],
   "source": [
    "from repositories.user_repository import UserRepository\n",
    "\n",
    "class UserService:\n",
    "    \n",
    "    @staticmethod\n",
    "    def create_user_service(data):\n",
    "\n",
    "        name = data['name']\n",
    "        email = data['email']\n",
    "\n",
    "        return UserRepository.create_user_repository(name, email)"
   ]
  },
  {
   "cell_type": "markdown",
   "metadata": {},
   "source": [
    "**6.** En el directorio **controllers**, crear archivo **user_controller.py**:"
   ]
  },
  {
   "cell_type": "code",
   "execution_count": null,
   "metadata": {},
   "outputs": [],
   "source": [
    "from flask import Blueprint, request, jsonify\n",
    "from services.user_service import UserService\n",
    "\n",
    "user_api = Blueprint('user_api', __name__)\n",
    "\n",
    "@user_api.route('/api/user', methods=['POST'])\n",
    "def create_user_controller():\n",
    "\n",
    "    data = request.get_json()\n",
    "    UserService.create_user_service(data)\n",
    "\n",
    "    return jsonify(\"User has been successfully created.\"), 201"
   ]
  },
  {
   "cell_type": "markdown",
   "metadata": {},
   "source": [
    "**7.** En la raíz del proyecto (directorio **isbn-users-ms**), crear archivo **app.py**:"
   ]
  },
  {
   "cell_type": "code",
   "execution_count": null,
   "metadata": {},
   "outputs": [],
   "source": [
    "from flask import Flask\n",
    "from models.user import db\n",
    "from controllers.user_controller import *\n",
    "\n",
    "from config import DB_USER, DB_PASSWORD, DB_HOST, DB_NAME\n",
    "\n",
    "app = Flask(__name__)\n",
    "app.config['SQLALCHEMY_DATABASE_URI'] = 'mysql+mysqlconnector://' + DB_USER + ':' + DB_PASSWORD + '@' + DB_HOST + '/' + DB_NAME \n",
    "db.init_app(app)\n",
    "\n",
    "app.register_blueprint(user_api)\n",
    "\n",
    "if __name__ == '__main__':\n",
    "    app.run(debug=True, host='0.0.0.0', port=4000)"
   ]
  },
  {
   "cell_type": "markdown",
   "metadata": {},
   "source": [
    "**8.** En la raíz del proyecto (directorio **isbn-users-ms**), crear archivo **requirements.txt**:"
   ]
  },
  {
   "cell_type": "code",
   "execution_count": null,
   "metadata": {
    "vscode": {
     "languageId": "plaintext"
    }
   },
   "outputs": [],
   "source": [
    "Flask==2.3.3\n",
    "Flask-SQLAlchemy==3.1.1\n",
    "mysql-connector-python==8.0.27"
   ]
  },
  {
   "cell_type": "markdown",
   "metadata": {},
   "source": [
    "**9.** En la raíz del proyecto (directorio **isbn-users-ms**), crear archivo **Dockerfile**:"
   ]
  },
  {
   "cell_type": "code",
   "execution_count": null,
   "metadata": {
    "vscode": {
     "languageId": "dockerfile"
    }
   },
   "outputs": [],
   "source": [
    "FROM python\n",
    "\n",
    "WORKDIR /app\n",
    "\n",
    "COPY requirements.txt requirements.txt\n",
    "\n",
    "RUN pip install -r requirements.txt\n",
    "\n",
    "COPY . .\n",
    "\n",
    "EXPOSE 4000\n",
    "\n",
    "CMD [\"python\", \"app.py\"]"
   ]
  },
  {
   "cell_type": "markdown",
   "metadata": {},
   "source": [
    "**10.** En la raíz del proyecto (directorio **isbn-users-ms**), crear archivo **config.py**:"
   ]
  },
  {
   "cell_type": "code",
   "execution_count": null,
   "metadata": {},
   "outputs": [],
   "source": [
    "import os\n",
    "\n",
    "# Environment Variables (Database)\n",
    "\n",
    "DB_USER = os.environ.get('DB_USER')\n",
    "DB_PASSWORD = os.environ.get('DB_PASSWORD')\n",
    "DB_HOST = os.environ.get('DB_HOST')\n",
    "DB_NAME = os.environ.get('DB_NAME')"
   ]
  },
  {
   "cell_type": "markdown",
   "metadata": {},
   "source": [
    "**11.** Crear imagen Docker para el microservicio **isbn-users-ms**:"
   ]
  },
  {
   "cell_type": "code",
   "execution_count": null,
   "metadata": {
    "vscode": {
     "languageId": "bat"
    }
   },
   "outputs": [],
   "source": [
    "docker build -t isbn-users-ms ."
   ]
  },
  {
   "cell_type": "markdown",
   "metadata": {},
   "source": [
    "**12.** Ejecutar el microservicio **isbn-users-ms** en un contenedor Docker:\n",
    "\n",
    "*Nota:* **-e** representa la declaración de una variable de entorno en el contexto del contenedor.\n",
    "\n",
    "*Importante:* reemplazar **IP_ADDRESS** por la IP pública asignada a la instancia de la base de datos creada previamente (**Cloud SQL** > **Overview** > **Connect to this instance** > **Public IP address**)."
   ]
  },
  {
   "cell_type": "code",
   "execution_count": null,
   "metadata": {
    "vscode": {
     "languageId": "bat"
    }
   },
   "outputs": [],
   "source": [
    "docker run -p 4000:4000 -e DB_USER=isbn -e DB_PASSWORD=123 -e DB_HOST=IP_ADDRESS\n",
    "-e DB_NAME=isbn-users-db --name isbn-users-ms isbn-users-ms"
   ]
  },
  {
   "cell_type": "markdown",
   "metadata": {},
   "source": [
    "**13.** Consumir la operación expuesta por el microservicio usando un **Cliente HTTP**.\n",
    "\n",
    "(Herramienta recomendada: [Postman](https://www.postman.com/))\n",
    "\n",
    "* **Método HTTP:** POST\n",
    "* **URL:** http://localhost:4000/api/user\n",
    "* **Cuerpo del mensaje (body):** *(reemplazar los valores con sus datos personales)*."
   ]
  },
  {
   "cell_type": "code",
   "execution_count": null,
   "metadata": {
    "vscode": {
     "languageId": "json"
    }
   },
   "outputs": [],
   "source": [
    "{\n",
    "    \"name\": \"Jeisson\",\n",
    "    \"email\": \"javergarav@unal.edu.co\"\n",
    "}"
   ]
  },
  {
   "cell_type": "markdown",
   "metadata": {},
   "source": [
    "**14.** Si la respuesta a la petición realizada retorna un código **201** y el mensaje **\"User has been successfully created.\"**, significa que el usuario ha sido creado satisfactoriamente en la base de datos.\n",
    "\n",
    "**15.** Comprobar el usuario creado en **Cloud SQL** > **Cloud SQL Studio**:"
   ]
  },
  {
   "cell_type": "code",
   "execution_count": null,
   "metadata": {
    "vscode": {
     "languageId": "sql"
    }
   },
   "outputs": [],
   "source": [
    "SELECT * FROM user;"
   ]
  },
  {
   "cell_type": "markdown",
   "metadata": {},
   "source": [
    "![img06](https://isbn2024i.s3.us-west-2.amazonaws.com/lab3/img/img06.png)"
   ]
  },
  {
   "cell_type": "markdown",
   "metadata": {},
   "source": [
    "#### Parte 2\n",
    "\n",
    "Despliegue en Cloud Run:\n",
    "\n",
    "**1.** En la consola de GCP acceder a **Artifact Registry** > **Create Respository**:\n",
    "\n",
    "* **Name:** isbn-users-ms\n",
    "* **Format:** Docker\n",
    "* **Mode:** Standard\n",
    "* **Location Type:** Region\n",
    "* **Region:** us-east4\n",
    "\n",
    "**2.** En el equipo local, instalar e inicializar [gcloud CLI](https://cloud.google.com/sdk/docs/install). *Nota:* el proceso de inicialización incluye el proceso de autenticación a la cuenta de GCP.\n",
    "\n",
    "**3.** Subir imagen Docker **isbn-users-ms** a **Artifact Registry**:"
   ]
  },
  {
   "cell_type": "code",
   "execution_count": null,
   "metadata": {
    "vscode": {
     "languageId": "bat"
    }
   },
   "outputs": [],
   "source": [
    "docker tag isbn-users-ms us-east4-docker.pkg.dev/isbn-2024i/isbn-users-ms/isbn-users-ms"
   ]
  },
  {
   "cell_type": "code",
   "execution_count": null,
   "metadata": {
    "vscode": {
     "languageId": "bat"
    }
   },
   "outputs": [],
   "source": [
    "docker push us-east4-docker.pkg.dev/isbn-2024i/isbn-users-ms/isbn-users-ms"
   ]
  },
  {
   "cell_type": "markdown",
   "metadata": {},
   "source": [
    "**4.** verificar el artefacto subido en **Artifact Registry**:\n",
    "\n",
    "![img07](https://isbn2024i.s3.us-west-2.amazonaws.com/lab3/img/img07.png)\n",
    "\n",
    "**5.** En la consola de GCP acceder a **Cloud Run** > **Services** > **Create Service**:\n",
    "\n",
    "* Deploy one revision from an existing container image.\n",
    "* **Container image URL:** us-east4-docker.pkg.dev/isbn-2024i/isbn-users-ms > isbn-users-ms > latest\n",
    "* **Service name**: isbn-users-ms\n",
    "* **Region:** us-east4\n",
    "* **Authentication:** Allow unauthenticated invocations\n",
    "* **CPU allocation and pricing:** CPU is only allocated during request processing\n",
    "* **Ingress control:** All\n",
    "\n",
    "Tras la generación del error:\n",
    "\n",
    "**6** Hacer clic en **Edit & Deploy New Revision**:\n",
    "\n",
    "* **Container port**: 4000\n",
    "\n",
    "En **Variables & Secrets**, hacer clic en **Add Variable**, y agregar cada una de las variables definidas en el paso **12** de la **Parte 1**.\n",
    "\n",
    "**7.** Hacer clic en **Deploy**.\n",
    "\n",
    "**8.** Repetir los pasos **13**, **14** y **15** de la **Parte 1**, cambiando (en URL) **http://localhost:4000** por la URL asignada para el servicio en Cloud Run.\n",
    "\n",
    "![img08](https://isbn2024i.s3.us-west-2.amazonaws.com/lab3/img/img08.png)\n",
    "\n",
    "### Componente #3\n",
    "\n",
    "* **Tipo de componente:** Base de Datos\n",
    "* **Nombre:** isbn-tasks-db\n",
    "* **Paradigma:** NoSQL (Orientado a Documentos)\n",
    "* **Sistema de Gestión de Base de Datos:** Firestore\n",
    "\n",
    "**1.** En la consola de GCP acceder a **Firestore** > **Create Database**.\n",
    "\n",
    "* Native mode\n",
    "* **Database ID:** isbn-tasks-db\n",
    "* **Location type:** Region\n",
    "* **Region:** us-east4\n",
    "* **Secure rules:** Test rules\n",
    "\n",
    "![img09](https://isbn2024i.s3.us-west-2.amazonaws.com/lab3/img/img09.png)\n",
    "\n",
    "**2.** Crear una colección (clic en **Start collection**):\n",
    "\n",
    "* **Collection ID:** tasks\n",
    "\n",
    "![img10](https://isbn2024i.s3.us-west-2.amazonaws.com/lab3/img/img10.png)\n",
    "\n",
    "### Componente #4\n",
    "\n",
    "* **Tipo de componente:** Lógico (Microservicio)\n",
    "* **Nombre:** isbn-tasks-ms\n",
    "* **Lenguaje de Programación:** Python\n",
    "\n",
    "**1.** En la consola de GCP acceder a **Cloud Functions** > **Create Function**.\n",
    "\n",
    "* **Environment:** 2nd gen\n",
    "* **Function name:** isbn-tasks-ms\n",
    "* **Region:** us-east4\n",
    "* **Trigger type:** HTTPS\n",
    "* **Authentication:** Allow unauthenticated invocations\n",
    "* **Runtime:** Python 3.12\n",
    "* **Entry point:** tasks_api\n",
    "\n",
    "Archivo **main.py**:\n"
   ]
  },
  {
   "cell_type": "code",
   "execution_count": null,
   "metadata": {},
   "outputs": [],
   "source": [
    "import functions_framework\n",
    "\n",
    "from google.cloud import firestore\n",
    "\n",
    "db = firestore.Client(project=\"isbn-2024i\", database=\"isbn-tasks-db\")\n",
    "\n",
    "@functions_framework.http\n",
    "def tasks_api(request):\n",
    "\n",
    "    if request.method == 'POST':\n",
    "        \n",
    "        data = request.get_json()\n",
    "    \n",
    "        doc = db.collection(\"tasks\").document(data['id'])\n",
    "        doc.set(data['details'])\n",
    "\n",
    "    return 'Task with id={} created!'.format(data['id']), 201"
   ]
  },
  {
   "cell_type": "markdown",
   "metadata": {},
   "source": [
    "Archivo **requirements.txt**:"
   ]
  },
  {
   "cell_type": "code",
   "execution_count": null,
   "metadata": {
    "vscode": {
     "languageId": "plaintext"
    }
   },
   "outputs": [],
   "source": [
    "functions-framework==3.*\n",
    "google-cloud-firestore==2.16.0"
   ]
  },
  {
   "cell_type": "markdown",
   "metadata": {},
   "source": [
    "**2.** Clic en **Deploy**.\n",
    "\n",
    "**3.** Consumir la operación expuesta por el microservicio usando un **Cliente HTTP**.\n",
    "\n",
    "* **Método HTTP:** POST\n",
    "* **URL:** URL_ADDRESS\n",
    "* **Cuerpo del mensaje (body):**"
   ]
  },
  {
   "cell_type": "code",
   "execution_count": null,
   "metadata": {
    "vscode": {
     "languageId": "json"
    }
   },
   "outputs": [],
   "source": [
    "{\n",
    "    \"id\": \"abc-123\",\n",
    "    \"details\": {\n",
    "        \"name\": \"Tarea 1\",\n",
    "        \"description\": \"Clase de ISBN\",\n",
    "        \"user_id\": \"1\"\n",
    "    }\n",
    "}"
   ]
  },
  {
   "cell_type": "markdown",
   "metadata": {},
   "source": [
    "Reemplazar **URL_ADDRESS** (en URL) por la URL asignada para el servicio en Cloud Functions.\n",
    "\n",
    "![img11](https://isbn2024i.s3.us-west-2.amazonaws.com/lab3/img/img11.png)\n",
    "\n",
    "**4.** Si la respuesta a la petición realizada retorna un código **201** y el mensaje **\"Task with id='' created!\"**, significa que la tarea ha sido creada satisfactoriamente en la base de datos.\n",
    "\n",
    "**5.** Comprobar la tarea creada en **Firestore**:\n",
    "\n",
    "![img12](https://isbn2024i.s3.us-west-2.amazonaws.com/lab3/img/img12.png)"
   ]
  }
 ],
 "metadata": {
  "language_info": {
   "name": "python"
  }
 },
 "nbformat": 4,
 "nbformat_minor": 2
}
